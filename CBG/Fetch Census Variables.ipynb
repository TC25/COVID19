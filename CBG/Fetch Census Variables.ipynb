{
 "cells": [
  {
   "cell_type": "code",
   "execution_count": 10,
   "metadata": {},
   "outputs": [],
   "source": [
    "import requests, json, pandas\n"
   ]
  },
  {
   "cell_type": "code",
   "execution_count": 47,
   "metadata": {},
   "outputs": [],
   "source": [
    "column_names = ['State', 'Total_Pop', 'Pct_Pov', 'Pct_No_Ins', 'Pop_65plus', 'Pop_White', 'Pop_Black','County', 'State_code', 'County_code', 'Tract', 'BG']\n",
    "with open(\"block_groups.csv\",'w') as o_file:\n",
    "    o_file.write(',' + ','.join(column_names) + ',GEOID\\n')"
   ]
  },
  {
   "cell_type": "code",
   "execution_count": 48,
   "metadata": {},
   "outputs": [
    {
     "name": "stdout",
     "output_type": "stream",
     "text": [
      "200\n",
      "200\n",
      "200\n",
      "200\n",
      "200\n",
      "200\n",
      "200\n",
      "200\n"
     ]
    }
   ],
   "source": [
    "\n",
    "for county in ['001', '003', '005', '007', '009', '011', '013', '015']:\n",
    "    url = 'https://api.census.gov/data/2019/pdb/blockgroup?get=State_name,Tot_Population_ACS_13_17,Prs_Blw_Pov_Lev_ACS_13_17,pct_No_Health_Ins_ACS_13_17,Pop_65plus_CEN_2010,NH_White_alone_ACS_13_17,NH_Blk_alone_ACS_13_17,County_name&for=block%20group:*&in=state:09%20county:' + county + '%20tract:*&key=dc4a77a973c04143c656cdd1c7ba676632a9f35c'\n",
    "\n",
    "    CT_BGs = requests.get(url)\n",
    "    print(CT_BGs.status_code) #200 means success\n",
    "    \n",
    "    df = pandas.read_json(url)[1:]\n",
    "    df.columns = column_names\n",
    "    df['GEOID'] = df.State_code + df.County_code + df.Tract + df.BG\n",
    "    df.to_csv('block_groups.csv', mode='a', header=False)"
   ]
  },
  {
   "cell_type": "code",
   "execution_count": null,
   "metadata": {},
   "outputs": [],
   "source": [
    "#def jprint(obj):\n",
    "    # create a formatted string of the Python JSON object\n",
    "#    text = json.dumps(obj, sort_keys=True, indent=4)\n",
    "#    print(text)\n",
    "#jprint(CT_BGs.json())"
   ]
  },
  {
   "cell_type": "code",
   "execution_count": null,
   "metadata": {},
   "outputs": [],
   "source": []
  }
 ],
 "metadata": {
  "kernelspec": {
   "display_name": "Python 3",
   "language": "python",
   "name": "python3"
  },
  "language_info": {
   "codemirror_mode": {
    "name": "ipython",
    "version": 3
   },
   "file_extension": ".py",
   "mimetype": "text/x-python",
   "name": "python",
   "nbconvert_exporter": "python",
   "pygments_lexer": "ipython3",
   "version": "3.7.4"
  }
 },
 "nbformat": 4,
 "nbformat_minor": 2
}
