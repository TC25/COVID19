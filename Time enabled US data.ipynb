{
 "cells": [
  {
   "cell_type": "code",
   "execution_count": 2,
   "metadata": {},
   "outputs": [],
   "source": [
    "import matplotlib.pyplot as plt\n",
    "import pandas as pd\n",
    "import numpy as np\n",
    "import geopandas as gpd\n",
    "from geopandas.tools import sjoin\n",
    "from matplotlib.offsetbox import AnchoredText\n",
    "import matplotlib.cm\n",
    "import matplotlib.colors as colors\n",
    "import geoplot as gplt\n",
    "import matplotlib.animation as animation"
   ]
  },
  {
   "cell_type": "code",
   "execution_count": 5,
   "metadata": {},
   "outputs": [
    {
     "name": "stdout",
     "output_type": "stream",
     "text": [
      "           UID iso2 iso3  code3  FIPS          Admin2  \\\n",
      "0           16   AS  ASM     16  60.0             NaN   \n",
      "1          316   GU  GUM    316  66.0             NaN   \n",
      "2          580   MP  MNP    580  69.0             NaN   \n",
      "3          630   PR  PRI    630  72.0             NaN   \n",
      "4          850   VI  VIR    850  78.0             NaN   \n",
      "...        ...  ...  ...    ...   ...             ...   \n",
      "3256  84070016   US  USA    840   NaN    Central Utah   \n",
      "3257  84070017   US  USA    840   NaN  Southeast Utah   \n",
      "3258  84070018   US  USA    840   NaN  Southwest Utah   \n",
      "3259  84070019   US  USA    840   NaN       TriCounty   \n",
      "3260  84070020   US  USA    840   NaN    Weber-Morgan   \n",
      "\n",
      "                Province_State Country_Region        Lat       Long_  ...  \\\n",
      "0               American Samoa             US -14.271000 -170.132000  ...   \n",
      "1                         Guam             US  13.444300  144.793700  ...   \n",
      "2     Northern Mariana Islands             US  15.097900  145.673900  ...   \n",
      "3                  Puerto Rico             US  18.220800  -66.590100  ...   \n",
      "4               Virgin Islands             US  18.335800  -64.896300  ...   \n",
      "...                        ...            ...        ...         ...  ...   \n",
      "3256                      Utah             US  39.372319 -111.575868  ...   \n",
      "3257                      Utah             US  38.996171 -110.701396  ...   \n",
      "3258                      Utah             US  37.854472 -111.441876  ...   \n",
      "3259                      Utah             US  40.124915 -109.517442  ...   \n",
      "3260                      Utah             US  41.271160 -111.914512  ...   \n",
      "\n",
      "     6/30/20  7/1/20  7/2/20  7/3/20  7/4/20  7/5/20  7/6/20  7/7/20  7/8/20  \\\n",
      "0          0       0       0       0       0       0       0       0       0   \n",
      "1        257     267     280     280     280     280     301     303     307   \n",
      "2         30      30      31      31      31      31      31      31      31   \n",
      "3       7465    7537    7608    7683    7787    7916    8585    8714    8745   \n",
      "4         81      90      92      98     111     111     112     116     122   \n",
      "...      ...     ...     ...     ...     ...     ...     ...     ...     ...   \n",
      "3256     169     173     180     194     201     209     217     227     234   \n",
      "3257      36      37      39      40      40      40      41      41      45   \n",
      "3258    1519    1553    1584    1625    1660    1689    1731    1805    1840   \n",
      "3259      50      50      52      53      55      55      56      56      59   \n",
      "3260     954    1004    1042    1090    1172    1195    1255    1293    1368   \n",
      "\n",
      "      7/9/20  \n",
      "0          0  \n",
      "1        309  \n",
      "2         31  \n",
      "3       8862  \n",
      "4        144  \n",
      "...      ...  \n",
      "3256     243  \n",
      "3257      47  \n",
      "3258    1881  \n",
      "3259      63  \n",
      "3260    1396  \n",
      "\n",
      "[3261 rows x 181 columns]\n"
     ]
    }
   ],
   "source": [
    "#Load in all shortwave data\n",
    "Confirmed=pd.read_csv(\"https://raw.githubusercontent.com/CSSEGISandData/COVID-19/master/csse_covid_19_data/csse_covid_19_time_series/time_series_covid19_confirmed_US.csv\")\n",
    "Deaths=pd.read_csv('https://raw.githubusercontent.com/CSSEGISandData/COVID-19/master/csse_covid_19_data/csse_covid_19_time_series/time_series_covid19_deaths_global.csv')\n",
    "#print(Confirmed)\n",
    "# Confirmed['Country']=Confirmed['Country/Region']\n",
    "# Pop=pd.read_csv('population-figures-by-country-csv_csv.csv')\n",
    "\n",
    "# Confirmed=pd.merge(Confirmed,Pop, on='Country')\n",
    "print(Confirmed)"
   ]
  },
  {
   "cell_type": "code",
   "execution_count": 7,
   "metadata": {},
   "outputs": [
    {
     "name": "stderr",
     "output_type": "stream",
     "text": [
      "C:\\Users\\tirth\\Anaconda3\\lib\\site-packages\\ipykernel_launcher.py:3: FutureWarning: The pandas.np module is deprecated and will be removed from pandas in a future version. Import numpy directly instead\n",
      "  This is separate from the ipykernel package so we can avoid doing imports until\n"
     ]
    },
    {
     "data": {
      "text/plain": [
       "(45220,)"
      ]
     },
     "execution_count": 7,
     "metadata": {},
     "output_type": "execute_result"
    }
   ],
   "source": [
    "Confirmed_strip=np.array(Confirmed.iloc[:,11:]).transpose().flatten()\n",
    "Date=np.repeat(np.array(Confirmed.iloc[:,11:].columns),Confirmed.shape[0])\n",
    "Meta=pd.DataFrame(pd.np.tile(Confirmed.iloc[:,0:11], (np.array(Confirmed.iloc[:,11:].columns).shape[0], 1)))\n",
    "Meta.columns=Confirmed.iloc[:,0:11].columns\n",
    "Deaths_strip=np.array(Deaths.iloc[:,4:]).transpose().flatten()\n",
    "Meta.shape\n",
    "Date.shape\n",
    "Confirmed_strip.shape\n",
    "Deaths_strip.shape\n",
    "#Recovered_strip.shape"
   ]
  },
  {
   "cell_type": "code",
   "execution_count": 8,
   "metadata": {},
   "outputs": [],
   "source": [
    "Final=pd.DataFrame(Meta)\n",
    "Final['Date']=Date\n",
    "Final['Confirmed']=Confirmed_strip\n",
    "Final\n",
    "Final.to_csv('US_Timeseries_timeenabled.csv')"
   ]
  },
  {
   "cell_type": "code",
   "execution_count": null,
   "metadata": {},
   "outputs": [],
   "source": []
  }
 ],
 "metadata": {
  "kernelspec": {
   "display_name": "Python 3",
   "language": "python",
   "name": "python3"
  },
  "language_info": {
   "codemirror_mode": {
    "name": "ipython",
    "version": 3
   },
   "file_extension": ".py",
   "mimetype": "text/x-python",
   "name": "python",
   "nbconvert_exporter": "python",
   "pygments_lexer": "ipython3",
   "version": "3.7.4"
  }
 },
 "nbformat": 4,
 "nbformat_minor": 2
}
