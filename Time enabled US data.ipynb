{
 "cells": [
  {
   "cell_type": "code",
   "execution_count": 1,
   "metadata": {},
   "outputs": [],
   "source": [
    "import matplotlib.pyplot as plt\n",
    "import pandas as pd\n",
    "import numpy as np\n",
    "import geopandas as gpd\n",
    "from geopandas.tools import sjoin\n",
    "from matplotlib.offsetbox import AnchoredText\n",
    "import matplotlib.cm\n",
    "import matplotlib.colors as colors\n",
    "import geoplot as gplt\n",
    "import matplotlib.animation as animation"
   ]
  },
  {
   "cell_type": "code",
   "execution_count": 2,
   "metadata": {},
   "outputs": [
    {
     "name": "stdout",
     "output_type": "stream",
     "text": [
      "           UID iso2 iso3  code3     FIPS      Admin2  \\\n",
      "0           16   AS  ASM     16     60.0         NaN   \n",
      "1          316   GU  GUM    316     66.0         NaN   \n",
      "2          580   MP  MNP    580     69.0         NaN   \n",
      "3          630   PR  PRI    630     72.0         NaN   \n",
      "4          850   VI  VIR    850     78.0         NaN   \n",
      "...        ...  ...  ...    ...      ...         ...   \n",
      "3248  84090053   US  USA    840  90053.0  Unassigned   \n",
      "3249  84090054   US  USA    840  90054.0  Unassigned   \n",
      "3250  84090055   US  USA    840  90055.0  Unassigned   \n",
      "3251  84090056   US  USA    840  90056.0  Unassigned   \n",
      "3252  84099999   US  USA    840  99999.0         NaN   \n",
      "\n",
      "                Province_State Country_Region      Lat     Long_  ... 3/23/20  \\\n",
      "0               American Samoa             US -14.2710 -170.1320  ...       0   \n",
      "1                         Guam             US  13.4443  144.7937  ...      29   \n",
      "2     Northern Mariana Islands             US  15.0979  145.6739  ...       0   \n",
      "3                  Puerto Rico             US  18.2208  -66.5901  ...      31   \n",
      "4               Virgin Islands             US  18.3358  -64.8963  ...       7   \n",
      "...                        ...            ...      ...       ...  ...     ...   \n",
      "3248                Washington             US   0.0000    0.0000  ...     145   \n",
      "3249             West Virginia             US   0.0000    0.0000  ...       0   \n",
      "3250                 Wisconsin             US   0.0000    0.0000  ...       0   \n",
      "3251                   Wyoming             US   0.0000    0.0000  ...       0   \n",
      "3252            Grand Princess             US   0.0000    0.0000  ...      28   \n",
      "\n",
      "      3/24/20  3/25/20  3/26/20  3/27/20  3/28/20  3/29/20  3/30/20  3/31/20  \\\n",
      "0           0        0        0        0        0        0        0        0   \n",
      "1          32       37       45       51       55       56       58       69   \n",
      "2           0        0        0        0        0        0        0        2   \n",
      "3          39       51       64       79      100      127      174      239   \n",
      "4          17       17       17       19       22        0        0       30   \n",
      "...       ...      ...      ...      ...      ...      ...      ...      ...   \n",
      "3248      112       51       69       67        0      125      274      274   \n",
      "3249        0        0        0        0        0        0        0        0   \n",
      "3250        0        0        0       61        0        0        0        0   \n",
      "3251        0        0        0        0        0        0        0        0   \n",
      "3252       28       28       28       28      103      103      103      103   \n",
      "\n",
      "      4/1/20  \n",
      "0          0  \n",
      "1         77  \n",
      "2          6  \n",
      "3        286  \n",
      "4         30  \n",
      "...      ...  \n",
      "3248     303  \n",
      "3249       0  \n",
      "3250       0  \n",
      "3251       0  \n",
      "3252     103  \n",
      "\n",
      "[3253 rows x 82 columns]\n"
     ]
    }
   ],
   "source": [
    "#Load in all shortwave data\n",
    "Confirmed=pd.read_csv(\"https://raw.githubusercontent.com/CSSEGISandData/COVID-19/master/csse_covid_19_data/csse_covid_19_time_series/time_series_covid19_confirmed_US.csv\")\n",
    "Deaths=pd.read_csv('https://raw.githubusercontent.com/CSSEGISandData/COVID-19/master/csse_covid_19_data/csse_covid_19_time_series/time_series_covid19_deaths_global.csv')\n",
    "#print(Confirmed)\n",
    "# Confirmed['Country']=Confirmed['Country/Region']\n",
    "# Pop=pd.read_csv('population-figures-by-country-csv_csv.csv')\n",
    "\n",
    "# Confirmed=pd.merge(Confirmed,Pop, on='Country')\n",
    "print(Confirmed)"
   ]
  },
  {
   "cell_type": "code",
   "execution_count": 14,
   "metadata": {},
   "outputs": [
    {
     "data": {
      "text/plain": [
       "(18176,)"
      ]
     },
     "execution_count": 14,
     "metadata": {},
     "output_type": "execute_result"
    }
   ],
   "source": [
    "Confirmed_strip=np.array(Confirmed.iloc[:,11:]).transpose().flatten()\n",
    "Date=np.repeat(np.array(Confirmed.iloc[:,11:].columns),Confirmed.shape[0])\n",
    "Meta=pd.DataFrame(pd.np.tile(Confirmed.iloc[:,0:11], (np.array(Confirmed.iloc[:,11:].columns).shape[0], 1)))\n",
    "Meta.columns=Confirmed.iloc[:,0:11].columns\n",
    "#Deaths_strip=np.array(Deaths.iloc[:,4:]).transpose().flatten()\n",
    "Meta.shape\n",
    "Date.shape\n",
    "Confirmed_strip.shape\n",
    "Deaths_strip.shape\n",
    "#Recovered_strip.shape"
   ]
  },
  {
   "cell_type": "code",
   "execution_count": 16,
   "metadata": {},
   "outputs": [],
   "source": [
    "Final=pd.DataFrame(Meta)\n",
    "Final['Date']=Date\n",
    "Final['Confirmed']=Confirmed_strip\n",
    "Final\n",
    "Final.to_csv('US_Timeseries_timeenabled.csv')"
   ]
  },
  {
   "cell_type": "code",
   "execution_count": null,
   "metadata": {},
   "outputs": [],
   "source": []
  }
 ],
 "metadata": {
  "kernelspec": {
   "display_name": "Python 3",
   "language": "python",
   "name": "python3"
  },
  "language_info": {
   "codemirror_mode": {
    "name": "ipython",
    "version": 3
   },
   "file_extension": ".py",
   "mimetype": "text/x-python",
   "name": "python",
   "nbconvert_exporter": "python",
   "pygments_lexer": "ipython3",
   "version": "3.7.4"
  }
 },
 "nbformat": 4,
 "nbformat_minor": 2
}
