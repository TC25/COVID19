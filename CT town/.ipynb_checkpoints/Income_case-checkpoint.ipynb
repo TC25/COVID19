{
 "cells": [
  {
   "cell_type": "code",
   "execution_count": 24,
   "metadata": {},
   "outputs": [],
   "source": [
    "import matplotlib.pyplot as plt\n",
    "import pandas as pd\n",
    "import numpy as np\n",
    "from scipy import stats\n",
    "import geopandas as gpd"
   ]
  },
  {
   "cell_type": "code",
   "execution_count": 25,
   "metadata": {},
   "outputs": [],
   "source": [
    "Dat = pd.read_csv('https://covid-timeseries-timeenabled.s3.eu-central-1.amazonaws.com/CT_towns_latest.csv')\n",
    "\n",
    "Income=pd.read_excel('ctincome2015_ct_income.xlsx')\n",
    "Pop=pd.read_excel('2010_Census_population_and_Housing.xls')"
   ]
  },
  {
   "cell_type": "code",
   "execution_count": 26,
   "metadata": {},
   "outputs": [],
   "source": [
    "Pop['Town']=Pop['Unnamed: 0']\n",
    "Income['Town']=Income['Connecticut 2015 Income Statistics']"
   ]
  },
  {
   "cell_type": "code",
   "execution_count": 27,
   "metadata": {},
   "outputs": [],
   "source": [
    "Fin=pd.merge(Dat,\n",
    "                 Pop[['Unnamed: 1', 'Town']],\n",
    "                 on='Town')\n",
    "Fin=pd.merge(Fin,\n",
    "                 Income[['Unnamed: 1', 'Town']],\n",
    "                 on='Town')\n",
    "Fin=Fin.rename({'Unnamed: 1_x': 'Pop', 'Unnamed: 1_y': 'Income'}, axis=1)\n",
    "Fin['Dens']=Fin['Cases']/Fin['Pop']*10000\n",
    "#Fin=Fin[Fin['Cases']>=100]\n",
    "Fin.to_csv('CT_towns_density.csv', index=False)"
   ]
  },
  {
   "cell_type": "code",
   "execution_count": 18,
   "metadata": {},
   "outputs": [],
   "source": [
    "Town_shape = gpd.read_file('..\\Townct_shp\\WGS84\\Townct_wgs84.shp', driver='shapefile')\n",
    "Town_shape['Town']=Town_shape['NAME']"
   ]
  },
  {
   "cell_type": "code",
   "execution_count": 19,
   "metadata": {},
   "outputs": [
    {
     "name": "stdout",
     "output_type": "stream",
     "text": [
      "    STATEFP COUNTYFP COUSUBFP  COUSUBNS    COSBIDFP          NAME  \\\n",
      "0        09      009    01220  00213383  0900901220       Ansonia   \n",
      "1        09      009    03250  00213387  0900903250  Beacon Falls   \n",
      "2        09      009    04580  00213389  0900904580       Bethany   \n",
      "3        09      009    07310  00213395  0900907310      Branford   \n",
      "4        09      009    14160  00213406  0900914160      Cheshire   \n",
      "..      ...      ...      ...       ...         ...           ...   \n",
      "164      09      005    79510  00213523  0900579510        Warren   \n",
      "165      09      005    79720  00213524  0900579720    Washington   \n",
      "166      09      005    80490  00213527  0900580490     Watertown   \n",
      "167      09      005    86440  00213536  0900586440    Winchester   \n",
      "168      09      005    87910  00213540  0900587910      Woodbury   \n",
      "\n",
      "              NAMELSAD LSAD CLASSFP  MTFCC  ...        Date        Lat  \\\n",
      "0         Ansonia town   43      T5  G4040  ...  2020-04-26  41.344249   \n",
      "1    Beacon Falls town   43      T1  G4040  ...  2020-04-26  41.443685   \n",
      "2         Bethany town   43      T1  G4040  ...  2020-04-26  41.422964   \n",
      "3        Branford town   43      T1  G4040  ...  2020-04-26  41.279566   \n",
      "4        Cheshire town   43      T1  G4040  ...  2020-04-26  41.511827   \n",
      "..                 ...  ...     ...    ...  ...         ...        ...   \n",
      "164        Warren town   43      T1  G4040  ...  2020-04-26  41.735855   \n",
      "165    Washington town   43      T1  G4040  ...  2020-04-26  41.656175   \n",
      "166     Watertown town   43      T1  G4040  ...  2020-04-26  41.617244   \n",
      "167    Winchester town   43      T1  G4040  ...  2020-04-26  41.922869   \n",
      "168      Woodbury town   43      T1  G4040  ...  2020-04-26  41.561632   \n",
      "\n",
      "           Lon Deaths CaseRate Daily_reported_cases  Daily_reported_cases_MA7  \\\n",
      "0   -73.069825      3    855.0                  5.0                         6   \n",
      "1   -73.051925      0    550.0                  1.0                         1   \n",
      "2   -72.994187      1    402.0                  1.0                         1   \n",
      "3   -72.790351     18    832.0                  9.0                         7   \n",
      "4   -72.903617      6    370.0                  2.0                         4   \n",
      "..         ...    ...      ...                  ...                       ...   \n",
      "164 -73.342831      0    214.0                  0.0                         0   \n",
      "165 -73.310175      1    524.0                  0.0                         0   \n",
      "166 -73.114362      5    337.0                  2.0                         2   \n",
      "167 -73.109927      2    366.0                  1.0                         1   \n",
      "168 -73.206096      2    304.0                  0.0                         1   \n",
      "\n",
      "       Pop  Income     Dens  \n",
      "0    19249   43305  83.1212  \n",
      "1     6049   83155  56.2076  \n",
      "2     5563   97254   39.547  \n",
      "3    28026   71938  83.1371  \n",
      "4    29261  106489  36.9092  \n",
      "..     ...     ...      ...  \n",
      "164   1461   90865  20.5339  \n",
      "165   3578   81354  50.3074  \n",
      "166  22514   78722  32.4243  \n",
      "167  11242   52757  34.6913  \n",
      "168   9975   80350  29.0727  \n",
      "\n",
      "[169 rows x 28 columns]\n"
     ]
    }
   ],
   "source": [
    "Fin=pd.merge(Town_shape,Fin,\n",
    "                 on='Town')\n",
    "print(Fin)"
   ]
  },
  {
   "cell_type": "code",
   "execution_count": 23,
   "metadata": {},
   "outputs": [],
   "source": [
    "Fin.to_file(\"Shapes/CT_latest_poly.geojson\", driver='GeoJSON')"
   ]
  },
  {
   "cell_type": "code",
   "execution_count": null,
   "metadata": {},
   "outputs": [],
   "source": [
    "y=np.array(Fin['Cases']).flatten().astype(float)\n",
    "x=np.array(Fin['Income']).flatten().astype(float)\n",
    "\n",
    "slope1, intercept1, r_value1, p_value1, std_err1 = stats.linregress(x,y)\n",
    "plt.scatter(x,y, color='red')\n",
    "plt.plot(x, intercept1 + slope1*x, 'k', label='y={:.3f}x+{:.3f}; $r^2$={:.2f}'.format(slope1,intercept1,(r_value1*r_value1)))\n",
    "plt.legend()\n",
    "plt.xlabel('Income')\n",
    "plt.ylabel('Total cases')\n",
    "plt.draw()\n",
    "plt.savefig(\"Case_income.png\", dpi=300, bbox_inches='tight')"
   ]
  }
 ],
 "metadata": {
  "kernelspec": {
   "display_name": "Python 3",
   "language": "python",
   "name": "python3"
  },
  "language_info": {
   "codemirror_mode": {
    "name": "ipython",
    "version": 3
   },
   "file_extension": ".py",
   "mimetype": "text/x-python",
   "name": "python",
   "nbconvert_exporter": "python",
   "pygments_lexer": "ipython3",
   "version": "3.7.4"
  }
 },
 "nbformat": 4,
 "nbformat_minor": 2
}
