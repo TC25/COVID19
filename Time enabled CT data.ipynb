{
 "cells": [
  {
   "cell_type": "code",
   "execution_count": 1,
   "metadata": {},
   "outputs": [],
   "source": [
    "import matplotlib.pyplot as plt\n",
    "import pandas as pd\n",
    "import numpy as np\n",
    "import geopandas as gpd\n",
    "from geopandas.tools import sjoin\n",
    "from matplotlib.offsetbox import AnchoredText\n",
    "import matplotlib.cm\n",
    "import matplotlib.colors as colors\n",
    "import geoplot as gplt\n",
    "import matplotlib.animation as animation"
   ]
  },
  {
   "cell_type": "code",
   "execution_count": 16,
   "metadata": {},
   "outputs": [
    {
     "name": "stdout",
     "output_type": "stream",
     "text": [
      "           UID iso2 iso3  code3     FIPS      Admin2 Province_State  \\\n",
      "313   84009001   US  USA    840   9001.0   Fairfield    Connecticut   \n",
      "314   84009003   US  USA    840   9003.0    Hartford    Connecticut   \n",
      "315   84009005   US  USA    840   9005.0  Litchfield    Connecticut   \n",
      "316   84009007   US  USA    840   9007.0   Middlesex    Connecticut   \n",
      "317   84009009   US  USA    840   9009.0   New Haven    Connecticut   \n",
      "318   84009011   US  USA    840   9011.0  New London    Connecticut   \n",
      "319   84009013   US  USA    840   9013.0     Tolland    Connecticut   \n",
      "320   84009015   US  USA    840   9015.0     Windham    Connecticut   \n",
      "3155  84080009   US  USA    840  80009.0   Out of CT    Connecticut   \n",
      "3207  84090009   US  USA    840  90009.0  Unassigned    Connecticut   \n",
      "\n",
      "     Country_Region        Lat      Long_  ... 3/23/20  3/24/20  3/25/20  \\\n",
      "313              US  41.268099 -73.388117  ...     270      384      546   \n",
      "314              US  41.802830 -72.731039  ...      61       88      116   \n",
      "315              US  41.793753 -73.245148  ...      13       22       33   \n",
      "316              US  41.459497 -72.537149  ...       8        8       15   \n",
      "317              US  41.408033 -72.936204  ...      41       89      127   \n",
      "318              US  41.488964 -72.104310  ...       4        6        9   \n",
      "319              US  41.858538 -72.330848  ...      16       19       27   \n",
      "320              US  41.829727 -71.981823  ...       2        2        2   \n",
      "3155             US   0.000000   0.000000  ...       0        0        0   \n",
      "3207             US   0.000000   0.000000  ...       0        0        0   \n",
      "\n",
      "      3/26/20  3/27/20  3/28/20  3/29/20  3/30/20  3/31/20  4/1/20  \n",
      "313       607      752      908     1245     1445     1870    1986  \n",
      "314       138      189      228      276      330      393     469  \n",
      "315        44       52       65       87      113      121     131  \n",
      "316        18       25       28       38       50       56      66  \n",
      "317       156      222      236      280      373      517     611  \n",
      "318        13       15       19       20       24       27      29  \n",
      "319        33       33       37       40       50       56      61  \n",
      "320         3        3        3        7       10       11      19  \n",
      "3155        0        0        0        0        0        0       0  \n",
      "3207        0        0        0        0      176       77     185  \n",
      "\n",
      "[10 rows x 82 columns]\n"
     ]
    }
   ],
   "source": [
    "#Load in all shortwave data\n",
    "Confirmed=pd.read_csv(\"https://raw.githubusercontent.com/CSSEGISandData/COVID-19/master/csse_covid_19_data/csse_covid_19_time_series/time_series_covid19_confirmed_US.csv\")\n",
    "Deaths=pd.read_csv('https://raw.githubusercontent.com/CSSEGISandData/COVID-19/master/csse_covid_19_data/csse_covid_19_time_series/time_series_covid19_deaths_global.csv')\n",
    "#print(Confirmed)\n",
    "# Confirmed['Country']=Confirmed['Country/Region']\n",
    "# Pop=pd.read_csv('population-figures-by-country-csv_csv.csv')\n",
    "\n",
    "# Confirmed=pd.merge(Confirmed,Pop, on='Country')\n",
    "\n",
    "Confirmed=Confirmed[Confirmed['Province_State']=='Connecticut']\n",
    "Deaths=Deaths[Deaths['Province/State']=='Connecticut']\n",
    "print(Confirmed)\n"
   ]
  },
  {
   "cell_type": "code",
   "execution_count": 18,
   "metadata": {},
   "outputs": [
    {
     "data": {
      "text/plain": [
       "(710,)"
      ]
     },
     "execution_count": 18,
     "metadata": {},
     "output_type": "execute_result"
    }
   ],
   "source": [
    "Confirmed_strip=np.array(Confirmed.iloc[:,11:]).transpose().flatten()\n",
    "Date=np.repeat(np.array(Confirmed.iloc[:,11:].columns),Confirmed.shape[0])\n",
    "Meta=pd.DataFrame(pd.np.tile(Confirmed.iloc[:,0:11], (np.array(Confirmed.iloc[:,11:].columns).shape[0], 1)))\n",
    "Meta.columns=Confirmed.iloc[:,0:11].columns\n",
    "#Deaths_strip=np.array(Deaths.iloc[:,4:]).transpose().flatten()\n",
    "Meta.shape\n",
    "Date.shape\n",
    "Confirmed_strip.shape\n",
    "#Deaths_strip.shape\n",
    "#Recovered_strip.shape"
   ]
  },
  {
   "cell_type": "code",
   "execution_count": 20,
   "metadata": {},
   "outputs": [],
   "source": [
    "Final=pd.DataFrame(Meta)\n",
    "Final['Date']=Date\n",
    "Final['Confirmed']=Confirmed_strip\n",
    "Final\n",
    "Final.to_csv('CT_Timeseries_timeenabled.csv')"
   ]
  },
  {
   "cell_type": "code",
   "execution_count": null,
   "metadata": {},
   "outputs": [],
   "source": []
  }
 ],
 "metadata": {
  "kernelspec": {
   "display_name": "Python 3",
   "language": "python",
   "name": "python3"
  },
  "language_info": {
   "codemirror_mode": {
    "name": "ipython",
    "version": 3
   },
   "file_extension": ".py",
   "mimetype": "text/x-python",
   "name": "python",
   "nbconvert_exporter": "python",
   "pygments_lexer": "ipython3",
   "version": "3.7.4"
  }
 },
 "nbformat": 4,
 "nbformat_minor": 2
}
