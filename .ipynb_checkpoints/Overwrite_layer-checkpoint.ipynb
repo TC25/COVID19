{
 "cells": [
  {
   "cell_type": "markdown",
   "metadata": {},
   "source": [
    "# Overwriting hosted feature layer in ARCGIS using Python API"
   ]
  },
  {
   "cell_type": "code",
   "execution_count": 1,
   "metadata": {},
   "outputs": [
    {
     "ename": "ModuleNotFoundError",
     "evalue": "No module named 'arcgis'",
     "output_type": "error",
     "traceback": [
      "\u001b[1;31m---------------------------------------------------------------------------\u001b[0m",
      "\u001b[1;31mModuleNotFoundError\u001b[0m                       Traceback (most recent call last)",
      "\u001b[1;32m<ipython-input-1-2a9c21806e40>\u001b[0m in \u001b[0;36m<module>\u001b[1;34m\u001b[0m\n\u001b[1;32m----> 1\u001b[1;33m \u001b[1;32mfrom\u001b[0m \u001b[0marcgis\u001b[0m\u001b[1;33m.\u001b[0m\u001b[0mgis\u001b[0m \u001b[1;32mimport\u001b[0m \u001b[0mGIS\u001b[0m  \u001b[1;31m#the submodule for displaying maps in jupyter\u001b[0m\u001b[1;33m\u001b[0m\u001b[1;33m\u001b[0m\u001b[0m\n\u001b[0m\u001b[0;32m      2\u001b[0m \u001b[1;32mimport\u001b[0m \u001b[0marcgis\u001b[0m               \u001b[1;31m#the python api module (online processing)\u001b[0m\u001b[1;33m\u001b[0m\u001b[1;33m\u001b[0m\u001b[0m\n\u001b[0;32m      3\u001b[0m \u001b[1;33m\u001b[0m\u001b[0m\n\u001b[0;32m      4\u001b[0m \u001b[1;32mimport\u001b[0m \u001b[0mos\u001b[0m\u001b[1;33m\u001b[0m\u001b[1;33m\u001b[0m\u001b[0m\n\u001b[0;32m      5\u001b[0m \u001b[1;32mimport\u001b[0m \u001b[0mdatetime\u001b[0m \u001b[1;32mas\u001b[0m \u001b[0mdt\u001b[0m\u001b[1;33m\u001b[0m\u001b[1;33m\u001b[0m\u001b[0m\n",
      "\u001b[1;31mModuleNotFoundError\u001b[0m: No module named 'arcgis'"
     ]
    }
   ],
   "source": [
    "from arcgis.gis import GIS  #the submodule for displaying maps in jupyter\n",
    "import arcgis               #the python api module (online processing)\n",
    "\n",
    "import os\n",
    "import datetime as dt"
   ]
  },
  {
   "cell_type": "markdown",
   "metadata": {},
   "source": [
    "### Log in"
   ]
  },
  {
   "cell_type": "code",
   "execution_count": 2,
   "metadata": {},
   "outputs": [
    {
     "name": "stdout",
     "output_type": "stream",
     "text": [
      "logged in as kiryl_ysm\n"
     ]
    }
   ],
   "source": [
    "gis = GIS('http://yalemaps.maps.arcgis.com', 'kiryl_ysm', '')\n",
    "print(\"logged in as \" + str(gis.properties.user.username))"
   ]
  },
  {
   "cell_type": "markdown",
   "metadata": {},
   "source": [
    "### Get list of already published content of type Feature Layer"
   ]
  },
  {
   "cell_type": "code",
   "execution_count": 3,
   "metadata": {},
   "outputs": [
    {
     "data": {
      "text/plain": [
       "[<Item title:\"County-level-time-series\" type:Feature Layer Collection owner:kiryl_ysm>,\n",
       " <Item title:\"CT-cities-2\" type:Feature Layer Collection owner:kiryl_ysm>,\n",
       " <Item title:\"County-level-time-series-2\" type:Feature Layer Collection owner:kiryl_ysm>,\n",
       " <Item title:\"CT-cities\" type:Feature Layer Collection owner:kiryl_ysm>]"
      ]
     },
     "execution_count": 3,
     "metadata": {},
     "output_type": "execute_result"
    }
   ],
   "source": [
    "my_content = gis.content.search(query=\"owner:\" + gis.users.me.username, \n",
    "                                item_type=\"Feature Layer\", \n",
    "                                max_items=15)\n",
    "\n",
    "my_content"
   ]
  },
  {
   "cell_type": "code",
   "execution_count": null,
   "metadata": {},
   "outputs": [],
   "source": []
  },
  {
   "cell_type": "code",
   "execution_count": null,
   "metadata": {},
   "outputs": [],
   "source": []
  },
  {
   "cell_type": "code",
   "execution_count": 4,
   "metadata": {},
   "outputs": [
    {
     "data": {
      "text/plain": [
       "arcgis.gis.Item"
      ]
     },
     "execution_count": 4,
     "metadata": {},
     "output_type": "execute_result"
    }
   ],
   "source": [
    "type(my_content[0])"
   ]
  },
  {
   "cell_type": "code",
   "execution_count": 5,
   "metadata": {},
   "outputs": [
    {
     "name": "stdout",
     "output_type": "stream",
     "text": [
      " County-level-time-series                 Feature Service           April 17 2020 at 11:22.22 AM            \n",
      " CT-cities-2                              Feature Service           April 17 2020 at 01:47.03 PM            \n",
      " County-level-time-series-2               Feature Service           April 17 2020 at 11:30.18 AM            \n",
      " CT-cities                                Feature Service           April 17 2020 at 11:39.11 AM            \n"
     ]
    }
   ],
   "source": [
    "def readable_date(portal_stamp):\n",
    "    return dt.datetime.fromtimestamp(portal_stamp/1000).strftime('%B %d %Y at %I:%M.%S %p')\n",
    "\n",
    "for content in my_content:\n",
    "    print(f\" {content.title:<40} {content.type:25} {readable_date(content.created):40}\")"
   ]
  },
  {
   "cell_type": "markdown",
   "metadata": {},
   "source": [
    "### Select an item in the content list that you intend to update"
   ]
  },
  {
   "cell_type": "code",
   "execution_count": 6,
   "metadata": {},
   "outputs": [
    {
     "data": {
      "text/plain": [
       "'\\nfind the right item by the name\\n'"
      ]
     },
     "execution_count": 6,
     "metadata": {},
     "output_type": "execute_result"
    }
   ],
   "source": [
    "\"\"\"\n",
    "find the right item by the name\n",
    "\"\"\""
   ]
  },
  {
   "cell_type": "code",
   "execution_count": 7,
   "metadata": {},
   "outputs": [],
   "source": [
    "CT_cities_layer_item = my_content[1]"
   ]
  },
  {
   "cell_type": "code",
   "execution_count": 8,
   "metadata": {},
   "outputs": [
    {
     "data": {
      "text/html": [
       "<div class=\"item_container\" style=\"height: auto; overflow: hidden; border: 1px solid #cfcfcf; border-radius: 2px; background: #f6fafa; line-height: 1.21429em; padding: 10px;\">\n",
       "                    <div class=\"item_left\" style=\"width: 210px; float: left;\">\n",
       "                       <a href='http://yalemaps.maps.arcgis.com/home/item.html?id=14e248eda58e4feeb6f1d3692a8c0989' target='_blank'>\n",
       "                        <img src='data:image/png;base64,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' width='200' height='133' class=\"itemThumbnail\">\n",
       "                       </a>\n",
       "                    </div>\n",
       "\n",
       "                    <div class=\"item_right\"     style=\"float: none; width: auto; overflow: hidden;\">\n",
       "                        <a href='http://yalemaps.maps.arcgis.com/home/item.html?id=14e248eda58e4feeb6f1d3692a8c0989' target='_blank'><b>CT-cities-2</b>\n",
       "                        </a>\n",
       "                        <br/><img src='http://yalemaps.maps.arcgis.com/home/js/jsapi/esri/css/images/item_type_icons/featureshosted16.png' style=\"vertical-align:middle;\">Feature Layer Collection by kiryl_ysm\n",
       "                        <br/>Last Modified: April 20, 2020\n",
       "                        <br/>0 comments, 44 views\n",
       "                    </div>\n",
       "                </div>\n",
       "                "
      ],
      "text/plain": [
       "<Item title:\"CT-cities-2\" type:Feature Layer Collection owner:kiryl_ysm>"
      ]
     },
     "execution_count": 8,
     "metadata": {},
     "output_type": "execute_result"
    }
   ],
   "source": [
    "CT_cities_layer_item"
   ]
  },
  {
   "cell_type": "code",
   "execution_count": 9,
   "metadata": {},
   "outputs": [
    {
     "data": {
      "text/plain": [
       "arcgis.gis.Item"
      ]
     },
     "execution_count": 9,
     "metadata": {},
     "output_type": "execute_result"
    }
   ],
   "source": [
    "type(CT_cities_layer_item)"
   ]
  },
  {
   "cell_type": "code",
   "execution_count": 10,
   "metadata": {},
   "outputs": [
    {
     "data": {
      "text/plain": [
       "[<FeatureLayer url:\"https://services1.arcgis.com/7uJv7I3kgh2y7Pe0/arcgis/rest/services/CT_cities_2/FeatureServer/0\">]"
      ]
     },
     "execution_count": 10,
     "metadata": {},
     "output_type": "execute_result"
    }
   ],
   "source": [
    "CT_cities_layer_item.layers"
   ]
  },
  {
   "cell_type": "code",
   "execution_count": 11,
   "metadata": {},
   "outputs": [
    {
     "data": {
      "text/plain": [
       "'CT-cities-2'"
      ]
     },
     "execution_count": 11,
     "metadata": {},
     "output_type": "execute_result"
    }
   ],
   "source": [
    "CT_cities_layer_item['title']"
   ]
  },
  {
   "cell_type": "markdown",
   "metadata": {},
   "source": [
    "##### The layer item has update method that can be used for updating properties of the layer, but not the data that the layer refers to"
   ]
  },
  {
   "cell_type": "code",
   "execution_count": 12,
   "metadata": {},
   "outputs": [],
   "source": [
    "import pandas as pd"
   ]
  },
  {
   "cell_type": "code",
   "execution_count": 13,
   "metadata": {},
   "outputs": [
    {
     "name": "stdout",
     "output_type": "stream",
     "text": [
      "CPU times: user 16.1 ms, sys: 2.87 ms, total: 19 ms\n",
      "Wall time: 2.06 s\n"
     ]
    },
    {
     "data": {
      "text/plain": [
       "True"
      ]
     },
     "execution_count": 13,
     "metadata": {},
     "output_type": "execute_result"
    }
   ],
   "source": [
    "%%time\n",
    "CT_cities_layer_item.update()"
   ]
  },
  {
   "cell_type": "markdown",
   "metadata": {},
   "source": [
    "### Load the csv file from storage into directory of the script"
   ]
  },
  {
   "cell_type": "code",
   "execution_count": 14,
   "metadata": {},
   "outputs": [],
   "source": [
    "df = pd.read_csv('https://covid-timeseries-timeenabled.s3.eu-central-1.amazonaws.com/CT_towns_latest.csv')"
   ]
  },
  {
   "cell_type": "code",
   "execution_count": 15,
   "metadata": {},
   "outputs": [
    {
     "data": {
      "text/html": [
       "<div>\n",
       "<style scoped>\n",
       "    .dataframe tbody tr th:only-of-type {\n",
       "        vertical-align: middle;\n",
       "    }\n",
       "\n",
       "    .dataframe tbody tr th {\n",
       "        vertical-align: top;\n",
       "    }\n",
       "\n",
       "    .dataframe thead th {\n",
       "        text-align: right;\n",
       "    }\n",
       "</style>\n",
       "<table border=\"1\" class=\"dataframe\">\n",
       "  <thead>\n",
       "    <tr style=\"text-align: right;\">\n",
       "      <th></th>\n",
       "      <th>index</th>\n",
       "      <th>Town</th>\n",
       "      <th>Cases</th>\n",
       "      <th>Date</th>\n",
       "      <th>Lat</th>\n",
       "      <th>Lon</th>\n",
       "    </tr>\n",
       "  </thead>\n",
       "  <tbody>\n",
       "    <tr>\n",
       "      <th>154</th>\n",
       "      <td>48</td>\n",
       "      <td>Enfield</td>\n",
       "      <td>164</td>\n",
       "      <td>4/16/2020</td>\n",
       "      <td>41.983993</td>\n",
       "      <td>-72.555553</td>\n",
       "    </tr>\n",
       "    <tr>\n",
       "      <th>155</th>\n",
       "      <td>49</td>\n",
       "      <td>Essex</td>\n",
       "      <td>8</td>\n",
       "      <td>4/16/2020</td>\n",
       "      <td>41.347353</td>\n",
       "      <td>-72.412412</td>\n",
       "    </tr>\n",
       "    <tr>\n",
       "      <th>156</th>\n",
       "      <td>50</td>\n",
       "      <td>Fairfield</td>\n",
       "      <td>0</td>\n",
       "      <td>4/16/2020</td>\n",
       "      <td>41.175940</td>\n",
       "      <td>-73.272046</td>\n",
       "    </tr>\n",
       "    <tr>\n",
       "      <th>157</th>\n",
       "      <td>83</td>\n",
       "      <td>Milford</td>\n",
       "      <td>304</td>\n",
       "      <td>4/16/2020</td>\n",
       "      <td>41.224096</td>\n",
       "      <td>-73.060031</td>\n",
       "    </tr>\n",
       "    <tr>\n",
       "      <th>158</th>\n",
       "      <td>51</td>\n",
       "      <td>Farmington</td>\n",
       "      <td>60</td>\n",
       "      <td>4/16/2020</td>\n",
       "      <td>41.730422</td>\n",
       "      <td>-72.843051</td>\n",
       "    </tr>\n",
       "    <tr>\n",
       "      <th>159</th>\n",
       "      <td>53</td>\n",
       "      <td>Glastonbury</td>\n",
       "      <td>86</td>\n",
       "      <td>4/16/2020</td>\n",
       "      <td>41.691883</td>\n",
       "      <td>-72.552173</td>\n",
       "    </tr>\n",
       "    <tr>\n",
       "      <th>160</th>\n",
       "      <td>54</td>\n",
       "      <td>Goshen</td>\n",
       "      <td>2</td>\n",
       "      <td>4/16/2020</td>\n",
       "      <td>41.849537</td>\n",
       "      <td>-73.234002</td>\n",
       "    </tr>\n",
       "    <tr>\n",
       "      <th>161</th>\n",
       "      <td>55</td>\n",
       "      <td>Granby</td>\n",
       "      <td>7</td>\n",
       "      <td>4/16/2020</td>\n",
       "      <td>41.971480</td>\n",
       "      <td>-72.830159</td>\n",
       "    </tr>\n",
       "    <tr>\n",
       "      <th>162</th>\n",
       "      <td>56</td>\n",
       "      <td>Greenwich</td>\n",
       "      <td>364</td>\n",
       "      <td>4/16/2020</td>\n",
       "      <td>41.043460</td>\n",
       "      <td>-73.628413</td>\n",
       "    </tr>\n",
       "    <tr>\n",
       "      <th>163</th>\n",
       "      <td>57</td>\n",
       "      <td>Griswold</td>\n",
       "      <td>8</td>\n",
       "      <td>4/16/2020</td>\n",
       "      <td>41.584772</td>\n",
       "      <td>-71.921091</td>\n",
       "    </tr>\n",
       "    <tr>\n",
       "      <th>164</th>\n",
       "      <td>58</td>\n",
       "      <td>Groton</td>\n",
       "      <td>21</td>\n",
       "      <td>4/16/2020</td>\n",
       "      <td>41.347574</td>\n",
       "      <td>-72.031336</td>\n",
       "    </tr>\n",
       "    <tr>\n",
       "      <th>165</th>\n",
       "      <td>59</td>\n",
       "      <td>Guilford</td>\n",
       "      <td>44</td>\n",
       "      <td>4/16/2020</td>\n",
       "      <td>41.339027</td>\n",
       "      <td>-72.706089</td>\n",
       "    </tr>\n",
       "    <tr>\n",
       "      <th>166</th>\n",
       "      <td>60</td>\n",
       "      <td>Haddam</td>\n",
       "      <td>13</td>\n",
       "      <td>4/16/2020</td>\n",
       "      <td>41.481264</td>\n",
       "      <td>-72.548147</td>\n",
       "    </tr>\n",
       "    <tr>\n",
       "      <th>167</th>\n",
       "      <td>52</td>\n",
       "      <td>Franklin</td>\n",
       "      <td>2</td>\n",
       "      <td>4/16/2020</td>\n",
       "      <td>41.621212</td>\n",
       "      <td>-72.142609</td>\n",
       "    </tr>\n",
       "    <tr>\n",
       "      <th>168</th>\n",
       "      <td>168</td>\n",
       "      <td>Woodstock</td>\n",
       "      <td>9</td>\n",
       "      <td>4/16/2020</td>\n",
       "      <td>41.966208</td>\n",
       "      <td>-72.022786</td>\n",
       "    </tr>\n",
       "  </tbody>\n",
       "</table>\n",
       "</div>"
      ],
      "text/plain": [
       "     index         Town  Cases       Date        Lat        Lon\n",
       "154     48      Enfield    164  4/16/2020  41.983993 -72.555553\n",
       "155     49        Essex      8  4/16/2020  41.347353 -72.412412\n",
       "156     50    Fairfield      0  4/16/2020  41.175940 -73.272046\n",
       "157     83      Milford    304  4/16/2020  41.224096 -73.060031\n",
       "158     51   Farmington     60  4/16/2020  41.730422 -72.843051\n",
       "159     53  Glastonbury     86  4/16/2020  41.691883 -72.552173\n",
       "160     54       Goshen      2  4/16/2020  41.849537 -73.234002\n",
       "161     55       Granby      7  4/16/2020  41.971480 -72.830159\n",
       "162     56    Greenwich    364  4/16/2020  41.043460 -73.628413\n",
       "163     57     Griswold      8  4/16/2020  41.584772 -71.921091\n",
       "164     58       Groton     21  4/16/2020  41.347574 -72.031336\n",
       "165     59     Guilford     44  4/16/2020  41.339027 -72.706089\n",
       "166     60       Haddam     13  4/16/2020  41.481264 -72.548147\n",
       "167     52     Franklin      2  4/16/2020  41.621212 -72.142609\n",
       "168    168    Woodstock      9  4/16/2020  41.966208 -72.022786"
      ]
     },
     "execution_count": 15,
     "metadata": {},
     "output_type": "execute_result"
    }
   ],
   "source": [
    "df.tail(15)"
   ]
  },
  {
   "cell_type": "code",
   "execution_count": 16,
   "metadata": {},
   "outputs": [],
   "source": [
    "df.loc[156, 'Cases'] = 222"
   ]
  },
  {
   "cell_type": "code",
   "execution_count": 17,
   "metadata": {},
   "outputs": [],
   "source": [
    "df.to_csv('data_output/CT_cities.csv', index=False)"
   ]
  },
  {
   "cell_type": "markdown",
   "metadata": {},
   "source": [
    "### Create a feature layer from the existing GIS Item\n",
    "\n",
    "Creates a feature layer from a GIS Item. The type of item should be a ‘Feature Service’ that represents a \n",
    "FeatureLayerCollection. The layer_id is the id of the layer in feature layer collection (feature service)."
   ]
  },
  {
   "cell_type": "code",
   "execution_count": 18,
   "metadata": {},
   "outputs": [],
   "source": [
    "\n",
    "from arcgis.features import FeatureLayerCollection\n",
    "cities_flayer_collection = FeatureLayerCollection.fromitem(CT_cities_layer_item)"
   ]
  },
  {
   "cell_type": "code",
   "execution_count": 19,
   "metadata": {},
   "outputs": [
    {
     "data": {
      "text/plain": [
       "<FeatureLayerCollection url:\"https://services1.arcgis.com/7uJv7I3kgh2y7Pe0/arcgis/rest/services/CT_cities_2/FeatureServer\">"
      ]
     },
     "execution_count": 19,
     "metadata": {},
     "output_type": "execute_result"
    }
   ],
   "source": [
    "cities_flayer_collection"
   ]
  },
  {
   "cell_type": "markdown",
   "metadata": {},
   "source": [
    "### Overwrite the feature layer collection\n",
    "\n",
    "Overwrite all the features and layers in a hosted feature layer collection service. This operation removes all features but retains the properties (such as metadata, itemID) and capabilities configured on the service. There are some limits to using this operation:\n",
    "\n",
    "1. Only hosted feature layer collection services can be overwritten\n",
    "\n",
    "2. The original data used to publish this layer should be available on the portal\n",
    "\n",
    "3. The data file used to overwrite should be of the same format and filename as the original that was used to publish the layer \n",
    "\n",
    "4. The schema (column names, column data types) of the data_file should be the same as original. You can have additional or fewer rows (features)."
   ]
  },
  {
   "cell_type": "code",
   "execution_count": 20,
   "metadata": {},
   "outputs": [
    {
     "name": "stdout",
     "output_type": "stream",
     "text": [
      "CPU times: user 59.5 ms, sys: 8.61 ms, total: 68.1 ms\n",
      "Wall time: 23.6 s\n"
     ]
    },
    {
     "data": {
      "text/plain": [
       "{'success': True}"
      ]
     },
     "execution_count": 20,
     "metadata": {},
     "output_type": "execute_result"
    }
   ],
   "source": [
    "%%time\n",
    "cities_flayer_collection.manager.overwrite('data_output/CT_cities.csv')"
   ]
  },
  {
   "cell_type": "markdown",
   "metadata": {},
   "source": [
    "#### Now we can go to acrgis and see the changes\n",
    "we checked that updating the feature layer collection affects the maps on the dashboards too."
   ]
  },
  {
   "cell_type": "code",
   "execution_count": null,
   "metadata": {},
   "outputs": [],
   "source": []
  },
  {
   "cell_type": "code",
   "execution_count": null,
   "metadata": {},
   "outputs": [],
   "source": [
    "group_content = gis.content.search(query=\"owner:\" + gis.users.me.username, \n",
    "                                item_type=\"Feature Layer\", \n",
    "                                max_items=15)\n",
    "\n",
    "group_content"
   ]
  },
  {
   "cell_type": "code",
   "execution_count": null,
   "metadata": {},
   "outputs": [],
   "source": []
  }
 ],
 "metadata": {
  "kernelspec": {
   "display_name": "Python 3",
   "language": "python",
   "name": "python3"
  },
  "language_info": {
   "codemirror_mode": {
    "name": "ipython",
    "version": 3
   },
   "file_extension": ".py",
   "mimetype": "text/x-python",
   "name": "python",
   "nbconvert_exporter": "python",
   "pygments_lexer": "ipython3",
   "version": "3.7.4"
  }
 },
 "nbformat": 4,
 "nbformat_minor": 2
}
