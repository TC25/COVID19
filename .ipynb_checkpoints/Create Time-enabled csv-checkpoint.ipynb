{
 "cells": [
  {
   "cell_type": "code",
   "execution_count": 6,
   "metadata": {},
   "outputs": [],
   "source": [
    "import matplotlib.pyplot as plt\n",
    "import pandas as pd\n",
    "import numpy as np\n",
    "import geopandas as gpd\n",
    "from geopandas.tools import sjoin\n",
    "from matplotlib.offsetbox import AnchoredText\n",
    "import matplotlib.cm\n",
    "import matplotlib.colors as colors\n",
    "import geoplot as gplt\n",
    "import matplotlib.animation as animation"
   ]
  },
  {
   "cell_type": "code",
   "execution_count": 19,
   "metadata": {},
   "outputs": [
    {
     "name": "stdout",
     "output_type": "stream",
     "text": [
      "               Province/State  Country/Region        Lat       Long  1/22/20  \\\n",
      "0                         NaN     Afghanistan  33.000000  65.000000        0   \n",
      "1                         NaN         Albania  41.153300  20.168300        0   \n",
      "2                         NaN         Algeria  28.033900   1.659600        0   \n",
      "3                         NaN         Andorra  42.506300   1.521800        0   \n",
      "4                         NaN          Angola -11.202700  17.873900        0   \n",
      "..                        ...             ...        ...        ...      ...   \n",
      "251  Turks and Caicos Islands  United Kingdom  21.694000 -71.797900        0   \n",
      "252                       NaN      MS Zaandam   0.000000   0.000000        0   \n",
      "253                       NaN        Botswana -22.328500  24.684900        0   \n",
      "254                       NaN         Burundi  -3.373100  29.918900        0   \n",
      "255                       NaN    Sierra Leone   8.460555 -11.779889        0   \n",
      "\n",
      "     1/23/20  1/24/20  1/25/20  1/26/20  1/27/20  ...  3/23/20  3/24/20  \\\n",
      "0          0        0        0        0        0  ...       40       74   \n",
      "1          0        0        0        0        0  ...      104      123   \n",
      "2          0        0        0        0        0  ...      230      264   \n",
      "3          0        0        0        0        0  ...      133      164   \n",
      "4          0        0        0        0        0  ...        3        3   \n",
      "..       ...      ...      ...      ...      ...  ...      ...      ...   \n",
      "251        0        0        0        0        0  ...        0        0   \n",
      "252        0        0        0        0        0  ...        0        0   \n",
      "253        0        0        0        0        0  ...        0        0   \n",
      "254        0        0        0        0        0  ...        0        0   \n",
      "255        0        0        0        0        0  ...        0        0   \n",
      "\n",
      "     3/25/20  3/26/20  3/27/20  3/28/20  3/29/20  3/30/20  3/31/20  4/1/20  \n",
      "0         84       94      110      110      120      170      174     237  \n",
      "1        146      174      186      197      212      223      243     259  \n",
      "2        302      367      409      454      511      584      716     847  \n",
      "3        188      224      267      308      334      370      376     390  \n",
      "4          3        4        4        5        7        7        7       8  \n",
      "..       ...      ...      ...      ...      ...      ...      ...     ...  \n",
      "251        0        0        0        4        4        5        5       6  \n",
      "252        0        0        0        2        2        2        2       9  \n",
      "253        0        0        0        0        0        3        4       4  \n",
      "254        0        0        0        0        0        0        2       2  \n",
      "255        0        0        0        0        0        0        1       2  \n",
      "\n",
      "[256 rows x 75 columns]\n"
     ]
    }
   ],
   "source": [
    "#Load in all raw data from the John Hopkins github page\n",
    "Confirmed=pd.read_csv(\"https://raw.githubusercontent.com/CSSEGISandData/COVID-19/master/csse_covid_19_data/csse_covid_19_time_series/time_series_covid19_confirmed_global.csv\")\n",
    "Deaths=pd.read_csv('https://raw.githubusercontent.com/CSSEGISandData/COVID-19/master/csse_covid_19_data/csse_covid_19_time_series/time_series_covid19_deaths_global.csv')\n",
    "Recovered=pd.read_csv('https://raw.githubusercontent.com/CSSEGISandData/COVID-19/master/csse_covid_19_data/csse_covid_19_time_series/time_series_covid19_recovered_global.csv')\n",
    "#print(Confirmed)\n",
    "# Confirmed['Country']=Confirmed['Country/Region']\n",
    "# Pop=pd.read_csv('population-figures-by-country-csv_csv.csv')\n",
    "\n",
    "# Confirmed=pd.merge(Confirmed,Pop, on='Country')\n",
    "print(Confirmed)"
   ]
  },
  {
   "cell_type": "code",
   "execution_count": 50,
   "metadata": {},
   "outputs": [
    {
     "data": {
      "text/plain": [
       "(17920,)"
      ]
     },
     "execution_count": 50,
     "metadata": {},
     "output_type": "execute_result"
    }
   ],
   "source": [
    "#Create single column for all the confirmed data for all dates\n",
    "Confirmed_strip=np.array(Confirmed.iloc[:,4:]).transpose().flatten()\n",
    "#Create single column for the set of dates for all countries\n",
    "Date=np.repeat(np.array(Confirmed.iloc[:,4:].columns),Confirmed.shape[0])\n",
    "#Create meta data columns and add column names\n",
    "Meta=pd.DataFrame(pd.np.tile(Confirmed.iloc[:,0:4], (np.array(Confirmed.iloc[:,4:].columns).shape[0], 1)))\n",
    "Meta.columns=Confirmed.iloc[:,0:4].columns\n",
    "#Same single column for deaths and recovered\n",
    "Deaths_strip=np.array(Deaths.iloc[:,4:]).transpose().flatten()\n",
    "Recovered_strip=np.array(Recovered.iloc[:,4:]).transpose().flatten()\n",
    "Meta.shape\n",
    "Date.shape\n",
    "Confirmed_strip.shape\n",
    "Deaths_strip.shape\n",
    "#Recovered_strip.shape"
   ]
  },
  {
   "cell_type": "code",
   "execution_count": 52,
   "metadata": {},
   "outputs": [],
   "source": [
    "#Merge everything into one dataframe and export as csv\n",
    "Final=pd.DataFrame(Meta)\n",
    "Final['Date']=Date\n",
    "Final['Confirmed']=Confirmed_strip\n",
    "Final['Deaths']=Deaths_strip\n",
    "Final\n",
    "Final.to_csv('Timeseries_timeenabled.csv')"
   ]
  },
  {
   "cell_type": "code",
   "execution_count": 49,
   "metadata": {},
   "outputs": [
    {
     "data": {
      "text/plain": [
       "[<matplotlib.lines.Line2D at 0x1e51adacc88>]"
      ]
     },
     "execution_count": 49,
     "metadata": {},
     "output_type": "execute_result"
    },
    {
     "data": {
      "image/png": "[encoded data removed]",
      "text/plain": [
       "<Figure size 432x288 with 1 Axes>"
      ]
     },
     "metadata": {
      "needs_background": "light"
     },
     "output_type": "display_data"
    }
   ],
   "source": [
    "plt.plot(ss)"
   ]
  },
  {
   "cell_type": "code",
   "execution_count": 48,
   "metadata": {},
   "outputs": [],
   "source": []
  },
  {
   "cell_type": "code",
   "execution_count": null,
   "metadata": {},
   "outputs": [],
   "source": []
  }
 ],
 "metadata": {
  "kernelspec": {
   "display_name": "Python 3",
   "language": "python",
   "name": "python3"
  },
  "language_info": {
   "codemirror_mode": {
    "name": "ipython",
    "version": 3
   },
   "file_extension": ".py",
   "mimetype": "text/x-python",
   "name": "python",
   "nbconvert_exporter": "python",
   "pygments_lexer": "ipython3",
   "version": "3.7.4"
  }
 },
 "nbformat": 4,
 "nbformat_minor": 2
}
