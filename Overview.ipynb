{
 "cells": [
  {
   "cell_type": "markdown",
   "metadata": {},
   "source": [
    "## Welcome to your notebook.\n"
   ]
  },
  {
   "cell_type": "markdown",
   "metadata": {},
   "source": [
    "#### Run this cell to connect to your GIS and get started:"
   ]
  },
  {
   "cell_type": "code",
   "execution_count": 1,
   "metadata": {},
   "outputs": [
    {
     "name": "stderr",
     "output_type": "stream",
     "text": [
      "/opt/conda/lib/python3.6/site-packages/arcgis/gis/__init__.py:389: UserWarning: You are logged on as tc572_yalemaps with an administrator role, proceed with caution.\n",
      "  self.users.me.username)\n"
     ]
    }
   ],
   "source": [
    "from arcgis.gis import GIS  #the submodule for displaying maps in jupyter\n",
    "import arcgis               #the python api module (online processing)\n",
    "import pandas as pd\n",
    "import os\n",
    "import datetime as dt\n",
    "\n",
    "import numpy as np"
   ]
  },
  {
   "cell_type": "code",
   "execution_count": 2,
   "metadata": {},
   "outputs": [
    {
     "data": {
      "text/plain": [
       "[<Item title:\"Joined_Town_Boundary\" type:Feature Layer Collection owner:tc572_yalemaps>,\n",
       " <Item title:\"phl\" type:Feature Layer Collection owner:tc572_yalemaps>,\n",
       " <Item title:\"Merge_ACS_Population_Variables___Centroids___County_COVID_19_Cases_US\" type:Feature Layer Collection owner:tc572_yalemaps>,\n",
       " <Item title:\"CT_towns_timeseries\" type:Feature Layer Collection owner:tc572_yalemaps>,\n",
       " <Item title:\"County Boundaries\" type:Feature Layer Collection owner:tc572_yalemaps>,\n",
       " <Item title:\"Enriched_COVID_19_Cases_US\" type:Feature Layer Collection owner:tc572_yalemaps>,\n",
       " <Item title:\"US_Timeseries_timeenabled\" type:Feature Layer Collection owner:tc572_yalemaps>,\n",
       " <Item title:\"Timeseries_timeenabled\" type:Feature Layer Collection owner:tc572_yalemaps>,\n",
       " <Item title:\"Merge_Coronavirus_COVID_19_Cases___Centroids___County\" type:Feature Layer Collection owner:tc572_yalemaps>,\n",
       " <Item title:\"COVID19_time\" type:Feature Layer Collection owner:tc572_yalemaps>,\n",
       " <Item title:\"CT_towns_latest\" type:Feature Layer Collection owner:tc572_yalemaps>,\n",
       " <Item title:\"CT_towns_series_time\" type:Feature Layer Collection owner:tc572_yalemaps>,\n",
       " <Item title:\"County_Boundaries\" type:Feature Layer Collection owner:tc572_yalemaps>,\n",
       " <Item title:\"CT_Timeseries_timeenabled\" type:Feature Layer Collection owner:tc572_yalemaps>]"
      ]
     },
     "execution_count": 2,
     "metadata": {},
     "output_type": "execute_result"
    }
   ],
   "source": [
    "##Log in to your ArcGIS Online\n",
    "gis = GIS(\"home\")\n",
    "##Get list of contents in your ArcGIS account\n",
    "my_content = gis.content.search(query=\"owner:\" + gis.users.me.username, item_type=\"Feature Layer\",max_items=15)\n",
    "my_content"
   ]
  },
  {
   "cell_type": "markdown",
   "metadata": {},
   "source": [
    "#### Now you are ready to start!"
   ]
  },
  {
   "cell_type": "code",
   "execution_count": 3,
   "metadata": {},
   "outputs": [],
   "source": [
    "##Choose item of interest and convert into FeatureCollection\n",
    "\n",
    "CT_cities_layer_item = my_content[-4]\n",
    "CT_cities_layer_item\n",
    "\n",
    "from arcgis.features import FeatureLayerCollection\n",
    "cities_flayer_collection = FeatureLayerCollection.fromitem(CT_cities_layer_item)"
   ]
  },
  {
   "cell_type": "code",
   "execution_count": 4,
   "metadata": {},
   "outputs": [],
   "source": [
    "##Load remotely stored csv and save locally for next step\n",
    "df = pd.read_csv('<Linktocsv>')\n",
    "df.to_csv('<savecsvlocally>', index=False)"
   ]
  },
  {
   "cell_type": "code",
   "execution_count": 5,
   "metadata": {},
   "outputs": [
    {
     "name": "stdout",
     "output_type": "stream",
     "text": [
      "CPU times: user 116 ms, sys: 15.8 ms, total: 132 ms\n",
      "Wall time: 19.6 s\n"
     ]
    },
    {
     "data": {
      "text/plain": [
       "{'success': True}"
      ]
     },
     "execution_count": 5,
     "metadata": {},
     "output_type": "execute_result"
    }
   ],
   "source": [
    "##Overwrite FeatureCollection\n",
    "cities_flayer_collection.manager.overwrite('<Localysavedcsv>')"
   ]
  },
  {
   "cell_type": "code",
   "execution_count": 6,
   "metadata": {},
   "outputs": [],
   "source": [
    "import json\n",
    "item=gis.content.get('idofyourarcgisonlineitem')"
   ]
  },
  {
   "cell_type": "code",
   "execution_count": 27,
   "metadata": {},
   "outputs": [
    {
     "data": {
      "text/plain": [
       "True"
      ]
     },
     "execution_count": 27,
     "metadata": {},
     "output_type": "execute_result"
    }
   ],
   "source": [
    "#Update properties of feature\n",
    "data=item.get_data()\n",
    "#del data['widgets']['timeSlider']['properties']['startTime']\n",
    "#del data['widgets']['timeSlider']['properties']['endTime']\n",
    "data['widgets']['timeSlider']['properties']['startTime']=np.min(df2['Date'])\n",
    "data['widgets']['timeSlider']['properties']['endTime']=np.max(df2['Date'])\n",
    "item.update(data=json.dumps(data))"
   ]
  }
 ],
 "metadata": {
  "esriNotebookRuntime": {
   "notebookRuntimeName": "ArcGIS Notebook Python 3 Advanced",
   "notebookRuntimeVersion": "3.0"
  },
  "kernelspec": {
   "display_name": "Python 3",
   "language": "python",
   "name": "python3"
  },
  "language_info": {
   "codemirror_mode": {
    "name": "ipython",
    "version": 3
   },
   "file_extension": ".py",
   "mimetype": "text/x-python",
   "name": "python",
   "nbconvert_exporter": "python",
   "pygments_lexer": "ipython3",
   "version": "3.7.4"
  }
 },
 "nbformat": 4,
 "nbformat_minor": 2
}
