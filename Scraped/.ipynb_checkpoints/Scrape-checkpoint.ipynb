{
 "cells": [
  {
   "cell_type": "code",
   "execution_count": 4,
   "metadata": {},
   "outputs": [],
   "source": [
    "import tabula\n",
    "import numpy as np"
   ]
  },
  {
   "cell_type": "code",
   "execution_count": 2,
   "metadata": {},
   "outputs": [],
   "source": [
    "Dates=['3212020','3222020','3232020','3242020','3252020','3262020','3272020','3282020','3292020','3302020','3312020','4012020',\n",
    "      '4022020','4032020','4042020','4052020','4062020','4072020']\n",
    "Pages= [3,4,4,5,6,5,5,5,5,8,9,10, 10,11,10,10,10,10]"
   ]
  },
  {
   "cell_type": "code",
   "execution_count": 5,
   "metadata": {},
   "outputs": [
    {
     "name": "stderr",
     "output_type": "stream",
     "text": [
      "Got stderr: Apr 08, 2020 3:47:43 PM org.apache.pdfbox.pdmodel.font.PDCIDFontType2 <init>\r\n",
      "INFO: OpenType Layout tables used in font CIDFont+F1 are not implemented in PDFBox and will be ignored\r\n",
      "Apr 08, 2020 3:47:43 PM org.apache.pdfbox.pdmodel.font.PDCIDFontType2 <init>\r\n",
      "INFO: OpenType Layout tables used in font CIDFont+F2 are not implemented in PDFBox and will be ignored\r\n",
      "Apr 08, 2020 3:47:43 PM org.apache.pdfbox.pdmodel.font.PDCIDFontType2 <init>\r\n",
      "INFO: OpenType Layout tables used in font CIDFont+F4 are not implemented in PDFBox and will be ignored\r\n",
      "\n"
     ]
    }
   ],
   "source": [
    "#Extract tables\n",
    "i=0\n",
    "for item in Dates:\n",
    "    file = \"Pdfs/CTDPHCOVID19summary\"+str(item)+\".pdf\"\n",
    "    tabula.convert_into(file, \"Extracted/\"+str(item)+\".csv\", pages = Pages[i])\n",
    "    i=i+1"
   ]
  },
  {
   "cell_type": "code",
   "execution_count": null,
   "metadata": {},
   "outputs": [],
   "source": []
  }
 ],
 "metadata": {
  "kernelspec": {
   "display_name": "Python 3",
   "language": "python",
   "name": "python3"
  },
  "language_info": {
   "codemirror_mode": {
    "name": "ipython",
    "version": 3
   },
   "file_extension": ".py",
   "mimetype": "text/x-python",
   "name": "python",
   "nbconvert_exporter": "python",
   "pygments_lexer": "ipython3",
   "version": "3.7.4"
  }
 },
 "nbformat": 4,
 "nbformat_minor": 2
}
