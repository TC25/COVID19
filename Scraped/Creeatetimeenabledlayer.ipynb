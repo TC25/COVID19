{
 "cells": [
  {
   "cell_type": "code",
   "execution_count": 150,
   "metadata": {},
   "outputs": [],
   "source": [
    "import matplotlib.pyplot as plt\n",
    "import pandas as pd\n",
    "import numpy as np\n",
    "import geopandas as gpd\n",
    "from geopandas.tools import sjoin\n",
    "from matplotlib.offsetbox import AnchoredText\n",
    "import matplotlib.cm\n",
    "import matplotlib.colors as colors\n",
    "import geoplot as gplt\n",
    "import matplotlib.animation as animation\n",
    "import glob"
   ]
  },
  {
   "cell_type": "code",
   "execution_count": 151,
   "metadata": {},
   "outputs": [],
   "source": [
    "Town_names=[]\n",
    "Date=[]\n",
    "Cases=[]\n",
    "\n",
    "Town=pd.read_csv('Towns.csv')\n",
    "path = \"Extracted/*.csv\"\n",
    "for fname in glob.glob(path):\n",
    "    Dat=pd.read_csv(fname)\n",
    "    Dat[Dat['Town']=='Town']=np.nan\n",
    "    Dat = Dat.dropna()\n",
    "    Town_names.append(np.array(Dat['Town']).transpose())\n",
    "    Cases.append(np.array(Dat['Cases']).transpose())\n",
    "    Date_temp=fname.split('\\\\')[1][0:-4]\n",
    "    Date_temp2=str(Date_temp[0]+\"/\"+Date_temp[1:3]+\"/\"+Date_temp[3:7])\n",
    "    Date_temp2=np.tile(Date_temp2,len(Dat))\n",
    "    Date.append(Date_temp2)\n"
   ]
  },
  {
   "cell_type": "code",
   "execution_count": 152,
   "metadata": {},
   "outputs": [],
   "source": [
    "Town_names_final=np.concatenate(Town_names, axis=0)\n",
    "Cases_final=np.concatenate(Cases, axis=0)\n",
    "Date_final=np.concatenate(Date, axis=0)"
   ]
  },
  {
   "cell_type": "code",
   "execution_count": 153,
   "metadata": {},
   "outputs": [],
   "source": [
    "Final=pd.DataFrame([Town_names_final,Cases_final,Date_final]).transpose()\n",
    "Final.columns=['Town','Cases','Date']"
   ]
  },
  {
   "cell_type": "code",
   "execution_count": 155,
   "metadata": {},
   "outputs": [],
   "source": [
    "Town['Town']=Town['NAME10']\n",
    "Town['Lat']=Town['INTPTLAT10']\n",
    "Town['Lon']=Town['INTPTLON10']"
   ]
  },
  {
   "cell_type": "code",
   "execution_count": 156,
   "metadata": {},
   "outputs": [],
   "source": [
    "Fin=pd.merge(Final, Town[['Town','Lat','Lon']],on='Town')\n",
    "Fin['Town'] = Fin['Town'].astype(str) \n",
    "Fin['Cases'] = Fin['Cases'].astype(int) \n",
    "Fin['Date'] = Fin['Date'].astype(str) \n",
    "Fin=Fin.sort_values('Date').reset_index()"
   ]
  },
  {
   "cell_type": "code",
   "execution_count": 157,
   "metadata": {},
   "outputs": [],
   "source": [
    "Fin.to_csv('CT_towns.csv', index=False)"
   ]
  },
  {
   "cell_type": "code",
   "execution_count": 158,
   "metadata": {},
   "outputs": [
    {
     "data": {
      "text/plain": [
       "[<matplotlib.lines.Line2D at 0x187cedb2148>]"
      ]
     },
     "execution_count": 158,
     "metadata": {},
     "output_type": "execute_result"
    },
    {
     "data": {
      "image/png": "[encoded data removed]",
      "text/plain": [
       "<Figure size 432x288 with 1 Axes>"
      ]
     },
     "metadata": {
      "needs_background": "light"
     },
     "output_type": "display_data"
    }
   ],
   "source": [
    "plt.plot(Fin['Cases'])"
   ]
  },
  {
   "cell_type": "code",
   "execution_count": 147,
   "metadata": {},
   "outputs": [
    {
     "data": {
      "text/plain": [
       "0        0\n",
       "304      0\n",
       "1056     0\n",
       "1520     3\n",
       "2351     0\n",
       "        ..\n",
       "271     40\n",
       "1151     3\n",
       "1551    53\n",
       "2206    84\n",
       "2702     7\n",
       "Name: Cases, Length: 2703, dtype: int32"
      ]
     },
     "execution_count": 147,
     "metadata": {},
     "output_type": "execute_result"
    }
   ],
   "source": [
    "Fin['Cases']"
   ]
  },
  {
   "cell_type": "code",
   "execution_count": 130,
   "metadata": {},
   "outputs": [
    {
     "data": {
      "text/plain": [
       "Town     object\n",
       "Cases     int32\n",
       "Date     object\n",
       "Lat       int32\n",
       "Lon       int32\n",
       "dtype: object"
      ]
     },
     "execution_count": 130,
     "metadata": {},
     "output_type": "execute_result"
    }
   ],
   "source": [
    "Fin.dtypes"
   ]
  },
  {
   "cell_type": "code",
   "execution_count": null,
   "metadata": {},
   "outputs": [],
   "source": []
  }
 ],
 "metadata": {
  "kernelspec": {
   "display_name": "Python 3",
   "language": "python",
   "name": "python3"
  },
  "language_info": {
   "codemirror_mode": {
    "name": "ipython",
    "version": 3
   },
   "file_extension": ".py",
   "mimetype": "text/x-python",
   "name": "python",
   "nbconvert_exporter": "python",
   "pygments_lexer": "ipython3",
   "version": "3.7.4"
  }
 },
 "nbformat": 4,
 "nbformat_minor": 2
}
