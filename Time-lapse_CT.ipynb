{
 "cells": [
  {
   "cell_type": "code",
   "execution_count": null,
   "metadata": {},
   "outputs": [],
   "source": [
    "import matplotlib.pyplot as plt\n",
    "import pandas as pd\n",
    "import numpy as np\n",
    "import geopandas as gpd\n",
    "from geopandas.tools import sjoin\n",
    "from matplotlib.offsetbox import AnchoredText\n",
    "import matplotlib.cm\n",
    "import matplotlib.colors as colors\n",
    "import geoplot as gplt\n",
    "import matplotlib.animation as animation\n",
    "from matplotlib.lines import Line2D\n",
    "import os"
   ]
  },
  {
   "cell_type": "code",
   "execution_count": null,
   "metadata": {},
   "outputs": [],
   "source": [
    "#Load in all shortwave data\n",
    "Confirmed=pd.read_csv(\"CT_towns.csv\")\n",
    "Confirmed=Confirmed[[\"Town\", \"Date\",\"Cases added during 14 days\"]]\n",
    "\n",
    "#Confirmed=Confirmed[14:]\n",
    "# list of years (which are the column names at the moment)\n",
    "list_of_years = np.array(Confirmed['Date'])\n",
    "\n",
    "\n",
    "Confirmed=Confirmed.pivot(index='Town', columns='Date', values='Cases added during 14 days') .reset_index()\n",
    "Town_shape = gpd.read_file('Townct_shp\\WGS84\\Townct_wgs84.shp', driver='shapefile')\n",
    "Town_shape['Town']=Town_shape['NAME']\n",
    "\n",
    "Confirmed_geoframe=pd.merge(Town_shape,Confirmed,\n",
    "                 on='Town')\n",
    "print(Confirmed_geoframe)\n"
   ]
  },
  {
   "cell_type": "code",
   "execution_count": null,
   "metadata": {},
   "outputs": [],
   "source": [
    "# set the min and max range for the choropleth map\n",
    "vmin, vmax = 0, 100\n",
    "\n",
    "# save all the maps in the charts folder\n",
    "output_path = 'Town_img'\n",
    "# counter for the for loop\n",
    "i = 0\n",
    "\n"
   ]
  },
  {
   "cell_type": "code",
   "execution_count": null,
   "metadata": {
    "scrolled": true
   },
   "outputs": [],
   "source": [
    "\n",
    "# start the for loop to create one map per year\n",
    "for year in list_of_years:\n",
    "    \n",
    "    # create map, UDPATE: added plt.Normalize to keep the legend range the same for all maps\n",
    "    fig = Confirmed_geoframe.plot(column=year, cmap='Blues', figsize=(10,6), linewidth=0.8, edgecolor='0.8', vmin=vmin, vmax=vmax,\n",
    "legend=True, norm=plt.Normalize(vmin=vmin, vmax=vmax))\n",
    "    cb_ax = fig.figure.axes[1] \n",
    "    cb_ax.tick_params(labelsize=20)\n",
    "    # remove axis of chart\n",
    "    fig.axis('off')\n",
    "    \n",
    "    # add a title\n",
    "    fig.set_title('14-Day COVID cases', \\\n",
    "              fontdict={'fontsize': '25',\n",
    "                         'fontweight' : '3'})\n",
    "\n",
    "    # position the annotation to the bottom left\n",
    "    fig.annotate(year,\n",
    "            xy=(0.1, .225), xycoords='figure fraction',\n",
    "            horizontalalignment='left', verticalalignment='top',\n",
    "            fontsize=30)\n",
    "    fig.annotate(\"Yale COVID Mapping Team: https:/covid.yale.edu\",\n",
    "            xy=(0.03, .08), xycoords='figure fraction',\n",
    "            horizontalalignment='left', verticalalignment='top',\n",
    "            fontsize=18)\n",
    "    fig.annotate(\"Data from ct.gov: https://m.yale.edu/ctgov-covid-data\",\n",
    "            xy=(0.03, .93), xycoords='figure fraction',\n",
    "            horizontalalignment='left', verticalalignment='top',\n",
    "            fontsize=18)\n",
    "    \n",
    "    # this will save the figure as a high-res png in the output path. you can also save as svg if you prefer.\n",
    "    filepath = os.path.join(output_path, year+'_COVID.png')\n",
    "    chart = fig.get_figure()\n",
    "    chart.savefig(filepath, dpi=80)"
   ]
  },
  {
   "cell_type": "code",
   "execution_count": 1,
   "metadata": {},
   "outputs": [],
   "source": [
    "\n",
    "from PIL import Image\n",
    "import glob\n",
    "\n",
    "# Create the frames\n",
    "frames = []\n",
    "imgs = glob.glob(\"Town_img/*.png\")\n",
    "for i in imgs:\n",
    "    new_frame = Image.open(i)\n",
    "    frames.append(new_frame)\n",
    " \n",
    "# Save into a GIF file that loops forever\n",
    "frames[0].save('DayCases_CT_v5.gif', format='GIF',\n",
    "               append_images=frames[1:],\n",
    "               save_all=True,\n",
    "               duration=100, loop=0)"
   ]
  },
  {
   "cell_type": "code",
   "execution_count": null,
   "metadata": {},
   "outputs": [],
   "source": [
    "\n",
    "from PIL import Image\n",
    "import glob\n",
    " \n",
    "# Create the frames\n",
    "frames = []\n",
    "imgs = glob.glob(\"Town_img/*.png\")\n",
    "imgs=imgs[0:len(imgs):7] \n",
    "for i in imgs:\n",
    "    new_frame = Image.open(i)\n",
    "    frames.append(new_frame)    \n",
    "    \n",
    "# Save into a GIF file that loops forever\n",
    "frames[0].save('DayCases_CT_v3.gif', format='GIF',\n",
    "               append_images=frames[1:],\n",
    "               save_all=True,\n",
    "               duration=300, loop=0)"
   ]
  },
  {
   "cell_type": "code",
   "execution_count": null,
   "metadata": {},
   "outputs": [],
   "source": [
    "imgs"
   ]
  },
  {
   "cell_type": "code",
   "execution_count": null,
   "metadata": {},
   "outputs": [],
   "source": []
  },
  {
   "cell_type": "code",
   "execution_count": null,
   "metadata": {},
   "outputs": [],
   "source": [
    "imgs"
   ]
  },
  {
   "cell_type": "code",
   "execution_count": null,
   "metadata": {},
   "outputs": [],
   "source": []
  }
 ],
 "metadata": {
  "kernelspec": {
   "display_name": "Python 3",
   "language": "python",
   "name": "python3"
  },
  "language_info": {
   "codemirror_mode": {
    "name": "ipython",
    "version": 3
   },
   "file_extension": ".py",
   "mimetype": "text/x-python",
   "name": "python",
   "nbconvert_exporter": "python",
   "pygments_lexer": "ipython3",
   "version": "3.7.4"
  }
 },
 "nbformat": 4,
 "nbformat_minor": 2
}
