{
 "cells": [
  {
   "cell_type": "code",
   "execution_count": 1,
   "metadata": {},
   "outputs": [],
   "source": [
    "import matplotlib.pyplot as plt\n",
    "import pandas as pd\n",
    "import numpy as np\n",
    "import geopandas as gpd\n",
    "from geopandas.tools import sjoin\n",
    "from matplotlib.offsetbox import AnchoredText\n",
    "import matplotlib.cm\n",
    "import matplotlib.colors as colors\n",
    "import geoplot as gplt\n",
    "import matplotlib.animation as animation"
   ]
  },
  {
   "cell_type": "code",
   "execution_count": 2,
   "metadata": {},
   "outputs": [
    {
     "name": "stdout",
     "output_type": "stream",
     "text": [
      "                Province/State         Country/Region        Lat       Long  \\\n",
      "0                          NaN            Afghanistan  33.000000  65.000000   \n",
      "1                          NaN                Albania  41.153300  20.168300   \n",
      "2                          NaN                Algeria  28.033900   1.659600   \n",
      "3                          NaN                Andorra  42.506300   1.521800   \n",
      "4                          NaN                 Angola -11.202700  17.873900   \n",
      "..                         ...                    ...        ...        ...   \n",
      "259  Saint Pierre and Miquelon                 France  46.885200 -56.315900   \n",
      "260                        NaN            South Sudan   6.877000  31.307000   \n",
      "261                        NaN         Western Sahara  24.215500 -12.885800   \n",
      "262                        NaN  Sao Tome and Principe   0.186360   6.613081   \n",
      "263                        NaN                  Yemen  15.552727  48.516388   \n",
      "\n",
      "     1/22/20  1/23/20  1/24/20  1/25/20  1/26/20  1/27/20  ...  4/4/20  \\\n",
      "0          0        0        0        0        0        0  ...     299   \n",
      "1          0        0        0        0        0        0  ...     333   \n",
      "2          0        0        0        0        0        0  ...    1251   \n",
      "3          0        0        0        0        0        0  ...     466   \n",
      "4          0        0        0        0        0        0  ...      10   \n",
      "..       ...      ...      ...      ...      ...      ...  ...     ...   \n",
      "259        0        0        0        0        0        0  ...       0   \n",
      "260        0        0        0        0        0        0  ...       0   \n",
      "261        0        0        0        0        0        0  ...       0   \n",
      "262        0        0        0        0        0        0  ...       0   \n",
      "263        0        0        0        0        0        0  ...       0   \n",
      "\n",
      "     4/5/20  4/6/20  4/7/20  4/8/20  4/9/20  4/10/20  4/11/20  4/12/20  \\\n",
      "0       349     367     423     444     484      521      555      607   \n",
      "1       361     377     383     400     409      416      433      446   \n",
      "2      1320    1423    1468    1572    1666     1761     1825     1914   \n",
      "3       501     525     545     564     583      601      601      638   \n",
      "4        14      16      17      19      19       19       19       19   \n",
      "..      ...     ...     ...     ...     ...      ...      ...      ...   \n",
      "259       1       1       1       1       1        1        1        1   \n",
      "260       1       1       2       2       3        4        4        4   \n",
      "261       4       4       4       4       4        4        4        6   \n",
      "262       0       4       4       4       4        4        4        4   \n",
      "263       0       0       0       0       0        1        1        1   \n",
      "\n",
      "     4/13/20  \n",
      "0        665  \n",
      "1        467  \n",
      "2       1983  \n",
      "3        646  \n",
      "4         19  \n",
      "..       ...  \n",
      "259        1  \n",
      "260        4  \n",
      "261        6  \n",
      "262        4  \n",
      "263        1  \n",
      "\n",
      "[264 rows x 87 columns]\n"
     ]
    }
   ],
   "source": [
    "#Load in all raw data from the John Hopkins github page\n",
    "Confirmed=pd.read_csv(\"https://raw.githubusercontent.com/CSSEGISandData/COVID-19/master/csse_covid_19_data/csse_covid_19_time_series/time_series_covid19_confirmed_global.csv\")\n",
    "Deaths=pd.read_csv('https://raw.githubusercontent.com/CSSEGISandData/COVID-19/master/csse_covid_19_data/csse_covid_19_time_series/time_series_covid19_deaths_global.csv')\n",
    "Recovered=pd.read_csv('https://raw.githubusercontent.com/CSSEGISandData/COVID-19/master/csse_covid_19_data/csse_covid_19_time_series/time_series_covid19_recovered_global.csv')\n",
    "#print(Confirmed)\n",
    "# Confirmed['Country']=Confirmed['Country/Region']\n",
    "# Pop=pd.read_csv('population-figures-by-country-csv_csv.csv')\n",
    "\n",
    "# Confirmed=pd.merge(Confirmed,Pop, on='Country')\n",
    "print(Confirmed)"
   ]
  },
  {
   "cell_type": "code",
   "execution_count": 3,
   "metadata": {},
   "outputs": [
    {
     "name": "stderr",
     "output_type": "stream",
     "text": [
      "C:\\Users\\tirth\\Anaconda3\\lib\\site-packages\\ipykernel_launcher.py:6: FutureWarning: The pandas.np module is deprecated and will be removed from pandas in a future version. Import numpy directly instead\n",
      "  \n"
     ]
    },
    {
     "data": {
      "text/plain": [
       "(21912,)"
      ]
     },
     "execution_count": 3,
     "metadata": {},
     "output_type": "execute_result"
    }
   ],
   "source": [
    "#Create single column for all the confirmed data for all dates\n",
    "Confirmed_strip=np.array(Confirmed.iloc[:,4:]).transpose().flatten()\n",
    "#Create single column for the set of dates for all countries\n",
    "Date=np.repeat(np.array(Confirmed.iloc[:,4:].columns),Confirmed.shape[0])\n",
    "#Create meta data columns and add column names\n",
    "Meta=pd.DataFrame(pd.np.tile(Confirmed.iloc[:,0:4], (np.array(Confirmed.iloc[:,4:].columns).shape[0], 1)))\n",
    "Meta.columns=Confirmed.iloc[:,0:4].columns\n",
    "#Same single column for deaths and recovered\n",
    "Deaths_strip=np.array(Deaths.iloc[:,4:]).transpose().flatten()\n",
    "Recovered_strip=np.array(Recovered.iloc[:,4:]).transpose().flatten()\n",
    "Meta.shape\n",
    "Date.shape\n",
    "Confirmed_strip.shape\n",
    "Deaths_strip.shape\n",
    "#Recovered_strip.shape"
   ]
  },
  {
   "cell_type": "code",
   "execution_count": 4,
   "metadata": {},
   "outputs": [],
   "source": [
    "#Merge everything into one dataframe and export as csv\n",
    "Final=pd.DataFrame(Meta)\n",
    "Final['Date']=Date\n",
    "Final['Confirmed']=Confirmed_strip\n",
    "Final['Deaths']=Deaths_strip\n",
    "Final\n",
    "Final.to_csv('Timeseries_timeenabled.csv')"
   ]
  },
  {
   "cell_type": "code",
   "execution_count": 1,
   "metadata": {},
   "outputs": [
    {
     "ename": "NameError",
     "evalue": "name 'plt' is not defined",
     "output_type": "error",
     "traceback": [
      "\u001b[1;31m---------------------------------------------------------------------------\u001b[0m",
      "\u001b[1;31mNameError\u001b[0m                                 Traceback (most recent call last)",
      "\u001b[1;32m<ipython-input-1-ecf3bce871d1>\u001b[0m in \u001b[0;36m<module>\u001b[1;34m\u001b[0m\n\u001b[1;32m----> 1\u001b[1;33m \u001b[0mplt\u001b[0m\u001b[1;33m.\u001b[0m\u001b[0mplot\u001b[0m\u001b[1;33m(\u001b[0m\u001b[0mss\u001b[0m\u001b[1;33m)\u001b[0m\u001b[1;33m\u001b[0m\u001b[1;33m\u001b[0m\u001b[0m\n\u001b[0m",
      "\u001b[1;31mNameError\u001b[0m: name 'plt' is not defined"
     ]
    }
   ],
   "source": [
    "plt.plot(ss)"
   ]
  },
  {
   "cell_type": "code",
   "execution_count": 48,
   "metadata": {},
   "outputs": [],
   "source": []
  },
  {
   "cell_type": "code",
   "execution_count": null,
   "metadata": {},
   "outputs": [],
   "source": []
  }
 ],
 "metadata": {
  "kernelspec": {
   "display_name": "Python 3",
   "language": "python",
   "name": "python3"
  },
  "language_info": {
   "codemirror_mode": {
    "name": "ipython",
    "version": 3
   },
   "file_extension": ".py",
   "mimetype": "text/x-python",
   "name": "python",
   "nbconvert_exporter": "python",
   "pygments_lexer": "ipython3",
   "version": "3.7.4"
  }
 },
 "nbformat": 4,
 "nbformat_minor": 2
}
