{
 "cells": [
  {
   "cell_type": "code",
   "execution_count": 1,
   "metadata": {},
   "outputs": [],
   "source": [
    "import matplotlib.pyplot as plt\n",
    "import pandas as pd\n",
    "import numpy as np\n",
    "import geopandas as gpd\n",
    "from geopandas.tools import sjoin\n",
    "from matplotlib.offsetbox import AnchoredText\n",
    "import matplotlib.cm\n",
    "import matplotlib.colors as colors\n",
    "import geoplot as gplt\n",
    "import matplotlib.animation as animation"
   ]
  },
  {
   "cell_type": "code",
   "execution_count": 2,
   "metadata": {},
   "outputs": [
    {
     "name": "stdout",
     "output_type": "stream",
     "text": [
      "                        Province/State  Country/Region        Lat       Long  \\\n",
      "0                                  NaN     Afghanistan  33.000000  65.000000   \n",
      "1                                  NaN         Albania  41.153300  20.168300   \n",
      "2                                  NaN         Algeria  28.033900   1.659600   \n",
      "3                                  NaN         Andorra  42.506300   1.521800   \n",
      "4                                  NaN          Angola -11.202700  17.873900   \n",
      "..                                 ...             ...        ...        ...   \n",
      "254                                NaN         Burundi  -3.373100  29.918900   \n",
      "255                                NaN    Sierra Leone   8.460555 -11.779889   \n",
      "256   Bonaire, Sint Eustatius and Saba     Netherlands  12.178400 -68.238500   \n",
      "257                                NaN          Malawi -13.254308  34.301525   \n",
      "258  Falkland Islands (Islas Malvinas)  United Kingdom -51.796300 -59.523600   \n",
      "\n",
      "     1/22/20  1/23/20  1/24/20  1/25/20  1/26/20  1/27/20  ...  3/26/20  \\\n",
      "0          0        0        0        0        0        0  ...       94   \n",
      "1          0        0        0        0        0        0  ...      174   \n",
      "2          0        0        0        0        0        0  ...      367   \n",
      "3          0        0        0        0        0        0  ...      224   \n",
      "4          0        0        0        0        0        0  ...        4   \n",
      "..       ...      ...      ...      ...      ...      ...  ...      ...   \n",
      "254        0        0        0        0        0        0  ...        0   \n",
      "255        0        0        0        0        0        0  ...        0   \n",
      "256        0        0        0        0        0        0  ...        0   \n",
      "257        0        0        0        0        0        0  ...        0   \n",
      "258        0        0        0        0        0        0  ...        0   \n",
      "\n",
      "     3/27/20  3/28/20  3/29/20  3/30/20  3/31/20  4/1/20  4/2/20  4/3/20  \\\n",
      "0        110      110      120      170      174     237     273     281   \n",
      "1        186      197      212      223      243     259     277     304   \n",
      "2        409      454      511      584      716     847     986    1171   \n",
      "3        267      308      334      370      376     390     428     439   \n",
      "4          4        5        7        7        7       8       8       8   \n",
      "..       ...      ...      ...      ...      ...     ...     ...     ...   \n",
      "254        0        0        0        0        2       2       3       3   \n",
      "255        0        0        0        0        1       2       2       2   \n",
      "256        0        0        0        0        0       0       2       2   \n",
      "257        0        0        0        0        0       0       3       3   \n",
      "258        0        0        0        0        0       0       0       0   \n",
      "\n",
      "     4/4/20  \n",
      "0       299  \n",
      "1       333  \n",
      "2      1251  \n",
      "3       466  \n",
      "4        10  \n",
      "..      ...  \n",
      "254       3  \n",
      "255       4  \n",
      "256       2  \n",
      "257       4  \n",
      "258       1  \n",
      "\n",
      "[259 rows x 78 columns]\n"
     ]
    }
   ],
   "source": [
    "#Load in all raw data from the John Hopkins github page\n",
    "Confirmed=pd.read_csv(\"https://raw.githubusercontent.com/CSSEGISandData/COVID-19/master/csse_covid_19_data/csse_covid_19_time_series/time_series_covid19_confirmed_global.csv\")\n",
    "Deaths=pd.read_csv('https://raw.githubusercontent.com/CSSEGISandData/COVID-19/master/csse_covid_19_data/csse_covid_19_time_series/time_series_covid19_deaths_global.csv')\n",
    "Recovered=pd.read_csv('https://raw.githubusercontent.com/CSSEGISandData/COVID-19/master/csse_covid_19_data/csse_covid_19_time_series/time_series_covid19_recovered_global.csv')\n",
    "#print(Confirmed)\n",
    "# Confirmed['Country']=Confirmed['Country/Region']\n",
    "# Pop=pd.read_csv('population-figures-by-country-csv_csv.csv')\n",
    "\n",
    "# Confirmed=pd.merge(Confirmed,Pop, on='Country')\n",
    "print(Confirmed)"
   ]
  },
  {
   "cell_type": "code",
   "execution_count": 3,
   "metadata": {},
   "outputs": [
    {
     "data": {
      "text/plain": [
       "(19166,)"
      ]
     },
     "execution_count": 3,
     "metadata": {},
     "output_type": "execute_result"
    }
   ],
   "source": [
    "#Create single column for all the confirmed data for all dates\n",
    "Confirmed_strip=np.array(Confirmed.iloc[:,4:]).transpose().flatten()\n",
    "#Create single column for the set of dates for all countries\n",
    "Date=np.repeat(np.array(Confirmed.iloc[:,4:].columns),Confirmed.shape[0])\n",
    "#Create meta data columns and add column names\n",
    "Meta=pd.DataFrame(pd.np.tile(Confirmed.iloc[:,0:4], (np.array(Confirmed.iloc[:,4:].columns).shape[0], 1)))\n",
    "Meta.columns=Confirmed.iloc[:,0:4].columns\n",
    "#Same single column for deaths and recovered\n",
    "Deaths_strip=np.array(Deaths.iloc[:,4:]).transpose().flatten()\n",
    "Recovered_strip=np.array(Recovered.iloc[:,4:]).transpose().flatten()\n",
    "Meta.shape\n",
    "Date.shape\n",
    "Confirmed_strip.shape\n",
    "Deaths_strip.shape\n",
    "#Recovered_strip.shape"
   ]
  },
  {
   "cell_type": "code",
   "execution_count": 4,
   "metadata": {},
   "outputs": [],
   "source": [
    "#Merge everything into one dataframe and export as csv\n",
    "Final=pd.DataFrame(Meta)\n",
    "Final['Date']=Date\n",
    "Final['Confirmed']=Confirmed_strip\n",
    "Final['Deaths']=Deaths_strip\n",
    "Final\n",
    "Final.to_csv('Timeseries_timeenabled.csv')"
   ]
  },
  {
   "cell_type": "code",
   "execution_count": 1,
   "metadata": {},
   "outputs": [
    {
     "ename": "NameError",
     "evalue": "name 'plt' is not defined",
     "output_type": "error",
     "traceback": [
      "\u001b[1;31m---------------------------------------------------------------------------\u001b[0m",
      "\u001b[1;31mNameError\u001b[0m                                 Traceback (most recent call last)",
      "\u001b[1;32m<ipython-input-1-ecf3bce871d1>\u001b[0m in \u001b[0;36m<module>\u001b[1;34m\u001b[0m\n\u001b[1;32m----> 1\u001b[1;33m \u001b[0mplt\u001b[0m\u001b[1;33m.\u001b[0m\u001b[0mplot\u001b[0m\u001b[1;33m(\u001b[0m\u001b[0mss\u001b[0m\u001b[1;33m)\u001b[0m\u001b[1;33m\u001b[0m\u001b[1;33m\u001b[0m\u001b[0m\n\u001b[0m",
      "\u001b[1;31mNameError\u001b[0m: name 'plt' is not defined"
     ]
    }
   ],
   "source": [
    "plt.plot(ss)"
   ]
  },
  {
   "cell_type": "code",
   "execution_count": 48,
   "metadata": {},
   "outputs": [],
   "source": []
  },
  {
   "cell_type": "code",
   "execution_count": null,
   "metadata": {},
   "outputs": [],
   "source": []
  }
 ],
 "metadata": {
  "kernelspec": {
   "display_name": "Python 3",
   "language": "python",
   "name": "python3"
  },
  "language_info": {
   "codemirror_mode": {
    "name": "ipython",
    "version": 3
   },
   "file_extension": ".py",
   "mimetype": "text/x-python",
   "name": "python",
   "nbconvert_exporter": "python",
   "pygments_lexer": "ipython3",
   "version": "3.7.4"
  }
 },
 "nbformat": 4,
 "nbformat_minor": 2
}
